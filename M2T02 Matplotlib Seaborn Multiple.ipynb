{
 "cells": [
  {
   "cell_type": "markdown",
   "id": "cddd3c19",
   "metadata": {},
   "source": [
    "# M2 T02: Visualització gràfica de Múltiples variables\n",
    "\n",
    "Anem a practicar i a familiaritzar-nos amb la Visualització gràfica de Múltiples variables.\n",
    "\n",
    "## Nivell 1 - Exercici 1\n",
    "\n",
    "Realitza la pràctica del notebook a GitHub \"03 EXAMINING DATA\" (fes una còpia i executa els comandaments amb el mateix dataset county.txt) Source: https://github.com/BIDDL3/Examining-Data/blob/main/03%20EXAMINING%20DATA.ipynb"
   ]
  },
  {
   "cell_type": "code",
   "execution_count": 1,
   "id": "135dfade",
   "metadata": {},
   "outputs": [],
   "source": [
    "# importing libraries\n",
    "import numpy as np\n",
    "import pandas as pd\n",
    "import matplotlib.pyplot as plt\n",
    "import seaborn as sns\n",
    "import warnings\n",
    "\n",
    "warnings.filterwarnings('ignore')"
   ]
  },
  {
   "cell_type": "code",
   "execution_count": 2,
   "id": "9cc72b9f",
   "metadata": {},
   "outputs": [],
   "source": [
    "# Open the choosen file\n",
    "county = pd.read_csv('https://raw.githubusercontent.com/BIDDL3/Examining-Data/main/county.txt', sep='\\t', encoding='utf-8')"
   ]
  },
  {
   "cell_type": "code",
   "execution_count": 3,
   "id": "a1cd1b4f",
   "metadata": {},
   "outputs": [
    {
     "data": {
      "text/plain": [
       "(3143, 10)"
      ]
     },
     "execution_count": 3,
     "metadata": {},
     "output_type": "execute_result"
    }
   ],
   "source": [
    "county.shape"
   ]
  },
  {
   "cell_type": "code",
   "execution_count": 4,
   "id": "cf4b57d3",
   "metadata": {},
   "outputs": [
    {
     "data": {
      "text/plain": [
       "Index(['name', 'state', 'pop2000', 'pop2010', 'fed_spend', 'poverty',\n",
       "       'homeownership', 'multiunit', 'income', 'med_income'],\n",
       "      dtype='object')"
      ]
     },
     "execution_count": 4,
     "metadata": {},
     "output_type": "execute_result"
    }
   ],
   "source": [
    "county.columns"
   ]
  },
  {
   "cell_type": "code",
   "execution_count": 5,
   "id": "9437e28a",
   "metadata": {},
   "outputs": [
    {
     "data": {
      "text/plain": [
       "array(['Alabama', 'Alaska', 'Arizona', 'Arkansas', 'California',\n",
       "       'Colorado', 'Connecticut', 'Delaware', 'District of Columbia',\n",
       "       'Florida', 'Georgia', 'Hawaii', 'Idaho', 'Illinois', 'Indiana',\n",
       "       'Iowa', 'Kansas', 'Kentucky', 'Louisiana', 'Maine', 'Maryland',\n",
       "       'Massachusetts', 'Michigan', 'Minnesota', 'Mississippi',\n",
       "       'Missouri', 'Montana', 'Nebraska', 'Nevada', 'New Hampshire',\n",
       "       'New Jersey', 'New Mexico', 'New York', 'North Carolina',\n",
       "       'North Dakota', 'Ohio', 'Oklahoma', 'Oregon', 'Pennsylvania',\n",
       "       'Rhode Island', 'South Carolina', 'South Dakota', 'Tennessee',\n",
       "       'Texas', 'Utah', 'Vermont', 'Virginia', 'Washington',\n",
       "       'West Virginia', 'Wisconsin', 'Wyoming'], dtype=object)"
      ]
     },
     "execution_count": 5,
     "metadata": {},
     "output_type": "execute_result"
    }
   ],
   "source": [
    "county.state.unique()"
   ]
  },
  {
   "cell_type": "code",
   "execution_count": 6,
   "id": "312cac79",
   "metadata": {},
   "outputs": [
    {
     "data": {
      "text/plain": [
       "51"
      ]
     },
     "execution_count": 6,
     "metadata": {},
     "output_type": "execute_result"
    }
   ],
   "source": [
    "county.state.nunique()"
   ]
  },
  {
   "cell_type": "code",
   "execution_count": 7,
   "id": "e3f41662",
   "metadata": {},
   "outputs": [
    {
     "data": {
      "text/html": [
       "<div>\n",
       "<style scoped>\n",
       "    .dataframe tbody tr th:only-of-type {\n",
       "        vertical-align: middle;\n",
       "    }\n",
       "\n",
       "    .dataframe tbody tr th {\n",
       "        vertical-align: top;\n",
       "    }\n",
       "\n",
       "    .dataframe thead th {\n",
       "        text-align: right;\n",
       "    }\n",
       "</style>\n",
       "<table border=\"1\" class=\"dataframe\">\n",
       "  <thead>\n",
       "    <tr style=\"text-align: right;\">\n",
       "      <th></th>\n",
       "      <th>pop2000</th>\n",
       "      <th>pop2010</th>\n",
       "      <th>fed_spend</th>\n",
       "      <th>poverty</th>\n",
       "      <th>homeownership</th>\n",
       "      <th>multiunit</th>\n",
       "      <th>income</th>\n",
       "      <th>med_income</th>\n",
       "    </tr>\n",
       "  </thead>\n",
       "  <tbody>\n",
       "    <tr>\n",
       "      <th>count</th>\n",
       "      <td>3140.000</td>\n",
       "      <td>3143.000</td>\n",
       "      <td>3139.000</td>\n",
       "      <td>3143.000</td>\n",
       "      <td>3143.000</td>\n",
       "      <td>3143.000</td>\n",
       "      <td>3143.000</td>\n",
       "      <td>3143.000</td>\n",
       "    </tr>\n",
       "    <tr>\n",
       "      <th>mean</th>\n",
       "      <td>89623.445</td>\n",
       "      <td>98232.752</td>\n",
       "      <td>9.991</td>\n",
       "      <td>15.499</td>\n",
       "      <td>73.264</td>\n",
       "      <td>12.325</td>\n",
       "      <td>22504.696</td>\n",
       "      <td>44270.299</td>\n",
       "    </tr>\n",
       "    <tr>\n",
       "      <th>std</th>\n",
       "      <td>292504.848</td>\n",
       "      <td>312901.202</td>\n",
       "      <td>7.567</td>\n",
       "      <td>6.384</td>\n",
       "      <td>7.832</td>\n",
       "      <td>9.291</td>\n",
       "      <td>5408.668</td>\n",
       "      <td>11547.636</td>\n",
       "    </tr>\n",
       "    <tr>\n",
       "      <th>min</th>\n",
       "      <td>67.000</td>\n",
       "      <td>82.000</td>\n",
       "      <td>0.000</td>\n",
       "      <td>0.000</td>\n",
       "      <td>0.000</td>\n",
       "      <td>0.000</td>\n",
       "      <td>7772.000</td>\n",
       "      <td>19351.000</td>\n",
       "    </tr>\n",
       "    <tr>\n",
       "      <th>25%</th>\n",
       "      <td>11209.750</td>\n",
       "      <td>11104.500</td>\n",
       "      <td>6.964</td>\n",
       "      <td>11.000</td>\n",
       "      <td>69.500</td>\n",
       "      <td>6.100</td>\n",
       "      <td>19030.000</td>\n",
       "      <td>36952.000</td>\n",
       "    </tr>\n",
       "    <tr>\n",
       "      <th>50%</th>\n",
       "      <td>24608.000</td>\n",
       "      <td>25857.000</td>\n",
       "      <td>8.669</td>\n",
       "      <td>14.700</td>\n",
       "      <td>74.600</td>\n",
       "      <td>9.700</td>\n",
       "      <td>21773.000</td>\n",
       "      <td>42445.000</td>\n",
       "    </tr>\n",
       "    <tr>\n",
       "      <th>75%</th>\n",
       "      <td>61766.500</td>\n",
       "      <td>66699.000</td>\n",
       "      <td>10.857</td>\n",
       "      <td>19.000</td>\n",
       "      <td>78.400</td>\n",
       "      <td>15.900</td>\n",
       "      <td>24813.500</td>\n",
       "      <td>49142.000</td>\n",
       "    </tr>\n",
       "    <tr>\n",
       "      <th>max</th>\n",
       "      <td>9519338.000</td>\n",
       "      <td>9818605.000</td>\n",
       "      <td>204.616</td>\n",
       "      <td>53.500</td>\n",
       "      <td>91.300</td>\n",
       "      <td>98.500</td>\n",
       "      <td>64381.000</td>\n",
       "      <td>115574.000</td>\n",
       "    </tr>\n",
       "  </tbody>\n",
       "</table>\n",
       "</div>"
      ],
      "text/plain": [
       "           pop2000      pop2010  fed_spend   poverty  homeownership  \\\n",
       "count     3140.000     3143.000   3139.000  3143.000       3143.000   \n",
       "mean     89623.445    98232.752      9.991    15.499         73.264   \n",
       "std     292504.848   312901.202      7.567     6.384          7.832   \n",
       "min         67.000       82.000      0.000     0.000          0.000   \n",
       "25%      11209.750    11104.500      6.964    11.000         69.500   \n",
       "50%      24608.000    25857.000      8.669    14.700         74.600   \n",
       "75%      61766.500    66699.000     10.857    19.000         78.400   \n",
       "max    9519338.000  9818605.000    204.616    53.500         91.300   \n",
       "\n",
       "       multiunit     income  med_income  \n",
       "count   3143.000   3143.000    3143.000  \n",
       "mean      12.325  22504.696   44270.299  \n",
       "std        9.291   5408.668   11547.636  \n",
       "min        0.000   7772.000   19351.000  \n",
       "25%        6.100  19030.000   36952.000  \n",
       "50%        9.700  21773.000   42445.000  \n",
       "75%       15.900  24813.500   49142.000  \n",
       "max       98.500  64381.000  115574.000  "
      ]
     },
     "execution_count": 7,
     "metadata": {},
     "output_type": "execute_result"
    }
   ],
   "source": [
    "county.describe().round(3)"
   ]
  },
  {
   "cell_type": "code",
   "execution_count": 8,
   "id": "ea73fdfa",
   "metadata": {},
   "outputs": [
    {
     "data": {
      "text/plain": [
       "89623.44490445859"
      ]
     },
     "execution_count": 8,
     "metadata": {},
     "output_type": "execute_result"
    }
   ],
   "source": [
    "county.pop2000.mean()"
   ]
  },
  {
   "cell_type": "code",
   "execution_count": 9,
   "id": "d8c0ec65",
   "metadata": {},
   "outputs": [
    {
     "data": {
      "image/png": "[encoded data removed]",
      "text/plain": [
       "<Figure size 432x288 with 1 Axes>"
      ]
     },
     "metadata": {
      "needs_background": "light"
     },
     "output_type": "display_data"
    }
   ],
   "source": [
    "# Create data\n",
    "x = county.fed_spend\n",
    "y = county.poverty\n",
    "colors = 'Blue'\n",
    "area = np.pi*5\n",
    "\n",
    "plt.axis([-10, 100, 0, 60])\n",
    "\n",
    "# Plot\n",
    "plt.scatter(x, y, s=area, c=colors, alpha=0.4, edgecolors='black')\n",
    "\n",
    "plt.title('Federal Spending vs Poverty by County')\n",
    "plt.ylabel('Federal Spending per Capita')\n",
    "plt.xlabel('Poverty Rate (Percent)')\n",
    "plt.show()"
   ]
  },
  {
   "cell_type": "markdown",
   "id": "76b42aa6",
   "metadata": {},
   "source": [
    "## Nivell 2 - Exercici 2\n",
    "\n",
    "Repeteix l'exercici 1 amb el dataset que disposem en el repositori de GitHub PRE-PROCESSING-DATA, movies.dat. Source: https://github.com/BIDDL3/PRE-PROCESSING-DATA/blob/main/movies.dat"
   ]
  },
  {
   "cell_type": "code",
   "execution_count": 10,
   "id": "f5544948",
   "metadata": {},
   "outputs": [],
   "source": [
    "# importing libraries\n",
    "import numpy as np\n",
    "import pandas as pd\n",
    "import matplotlib.pyplot as plt\n",
    "import seaborn as sns\n",
    "import warnings\n",
    "\n",
    "warnings.filterwarnings('ignore')"
   ]
  },
  {
   "cell_type": "markdown",
   "id": "03778044",
   "metadata": {},
   "source": [
    "_Explorem les dades del fitxer movies.dat disponible a https://github.com/BIDDL3/PRE-PROCESSING-DATA/blob/main/movies.dat. És un arxiu de text, sense el nom de les variables. Aparentment només tindria tres variables que estan separades per '::', que correspondrien als ítems: codi identificador de la pel·lícula (**id_movie**), Nom de la pel·lícula (**movie_title**) i gènere (**type**)_"
   ]
  },
  {
   "cell_type": "code",
   "execution_count": 11,
   "id": "b7e76fcb",
   "metadata": {},
   "outputs": [],
   "source": [
    "# Open the choosen file\n",
    "movies = pd.read_csv('./../data/movies.dat', sep='::', \n",
    "                     header=None, names=['id_movie', 'movie_title', 'type'])"
   ]
  },
  {
   "cell_type": "markdown",
   "id": "84c172ab",
   "metadata": {},
   "source": [
    "_Explorem les dades:_"
   ]
  },
  {
   "cell_type": "code",
   "execution_count": 12,
   "id": "597ac9ce",
   "metadata": {},
   "outputs": [
    {
     "data": {
      "text/plain": [
       "(3883, 3)"
      ]
     },
     "execution_count": 12,
     "metadata": {},
     "output_type": "execute_result"
    }
   ],
   "source": [
    "movies.shape"
   ]
  },
  {
   "cell_type": "code",
   "execution_count": 13,
   "id": "92ebf249",
   "metadata": {},
   "outputs": [
    {
     "name": "stdout",
     "output_type": "stream",
     "text": [
      "<class 'pandas.core.frame.DataFrame'>\n",
      "RangeIndex: 3883 entries, 0 to 3882\n",
      "Data columns (total 3 columns):\n",
      " #   Column       Non-Null Count  Dtype \n",
      "---  ------       --------------  ----- \n",
      " 0   id_movie     3883 non-null   int64 \n",
      " 1   movie_title  3883 non-null   object\n",
      " 2   type         3883 non-null   object\n",
      "dtypes: int64(1), object(2)\n",
      "memory usage: 91.1+ KB\n"
     ]
    }
   ],
   "source": [
    "movies.info()"
   ]
  },
  {
   "cell_type": "code",
   "execution_count": 14,
   "id": "83f4fba0",
   "metadata": {},
   "outputs": [
    {
     "data": {
      "text/plain": [
       "Index(['id_movie', 'movie_title', 'type'], dtype='object')"
      ]
     },
     "execution_count": 14,
     "metadata": {},
     "output_type": "execute_result"
    }
   ],
   "source": [
    "movies.columns"
   ]
  },
  {
   "cell_type": "code",
   "execution_count": 15,
   "id": "5988eb73",
   "metadata": {},
   "outputs": [
    {
     "data": {
      "text/html": [
       "<div>\n",
       "<style scoped>\n",
       "    .dataframe tbody tr th:only-of-type {\n",
       "        vertical-align: middle;\n",
       "    }\n",
       "\n",
       "    .dataframe tbody tr th {\n",
       "        vertical-align: top;\n",
       "    }\n",
       "\n",
       "    .dataframe thead th {\n",
       "        text-align: right;\n",
       "    }\n",
       "</style>\n",
       "<table border=\"1\" class=\"dataframe\">\n",
       "  <thead>\n",
       "    <tr style=\"text-align: right;\">\n",
       "      <th></th>\n",
       "      <th>id_movie</th>\n",
       "      <th>movie_title</th>\n",
       "      <th>type</th>\n",
       "    </tr>\n",
       "  </thead>\n",
       "  <tbody>\n",
       "    <tr>\n",
       "      <th>0</th>\n",
       "      <td>1</td>\n",
       "      <td>Toy Story (1995)</td>\n",
       "      <td>Animation|Children's|Comedy</td>\n",
       "    </tr>\n",
       "    <tr>\n",
       "      <th>1</th>\n",
       "      <td>2</td>\n",
       "      <td>Jumanji (1995)</td>\n",
       "      <td>Adventure|Children's|Fantasy</td>\n",
       "    </tr>\n",
       "    <tr>\n",
       "      <th>2</th>\n",
       "      <td>3</td>\n",
       "      <td>Grumpier Old Men (1995)</td>\n",
       "      <td>Comedy|Romance</td>\n",
       "    </tr>\n",
       "    <tr>\n",
       "      <th>3</th>\n",
       "      <td>4</td>\n",
       "      <td>Waiting to Exhale (1995)</td>\n",
       "      <td>Comedy|Drama</td>\n",
       "    </tr>\n",
       "    <tr>\n",
       "      <th>4</th>\n",
       "      <td>5</td>\n",
       "      <td>Father of the Bride Part II (1995)</td>\n",
       "      <td>Comedy</td>\n",
       "    </tr>\n",
       "  </tbody>\n",
       "</table>\n",
       "</div>"
      ],
      "text/plain": [
       "   id_movie                         movie_title                          type\n",
       "0         1                    Toy Story (1995)   Animation|Children's|Comedy\n",
       "1         2                      Jumanji (1995)  Adventure|Children's|Fantasy\n",
       "2         3             Grumpier Old Men (1995)                Comedy|Romance\n",
       "3         4            Waiting to Exhale (1995)                  Comedy|Drama\n",
       "4         5  Father of the Bride Part II (1995)                        Comedy"
      ]
     },
     "execution_count": 15,
     "metadata": {},
     "output_type": "execute_result"
    }
   ],
   "source": [
    "movies.head()"
   ]
  },
  {
   "cell_type": "code",
   "execution_count": 16,
   "id": "365a618b",
   "metadata": {},
   "outputs": [
    {
     "data": {
      "text/html": [
       "<div>\n",
       "<style scoped>\n",
       "    .dataframe tbody tr th:only-of-type {\n",
       "        vertical-align: middle;\n",
       "    }\n",
       "\n",
       "    .dataframe tbody tr th {\n",
       "        vertical-align: top;\n",
       "    }\n",
       "\n",
       "    .dataframe thead th {\n",
       "        text-align: right;\n",
       "    }\n",
       "</style>\n",
       "<table border=\"1\" class=\"dataframe\">\n",
       "  <thead>\n",
       "    <tr style=\"text-align: right;\">\n",
       "      <th></th>\n",
       "      <th>id_movie</th>\n",
       "      <th>movie_title</th>\n",
       "      <th>type</th>\n",
       "    </tr>\n",
       "  </thead>\n",
       "  <tbody>\n",
       "    <tr>\n",
       "      <th>3878</th>\n",
       "      <td>3948</td>\n",
       "      <td>Meet the Parents (2000)</td>\n",
       "      <td>Comedy</td>\n",
       "    </tr>\n",
       "    <tr>\n",
       "      <th>3879</th>\n",
       "      <td>3949</td>\n",
       "      <td>Requiem for a Dream (2000)</td>\n",
       "      <td>Drama</td>\n",
       "    </tr>\n",
       "    <tr>\n",
       "      <th>3880</th>\n",
       "      <td>3950</td>\n",
       "      <td>Tigerland (2000)</td>\n",
       "      <td>Drama</td>\n",
       "    </tr>\n",
       "    <tr>\n",
       "      <th>3881</th>\n",
       "      <td>3951</td>\n",
       "      <td>Two Family House (2000)</td>\n",
       "      <td>Drama</td>\n",
       "    </tr>\n",
       "    <tr>\n",
       "      <th>3882</th>\n",
       "      <td>3952</td>\n",
       "      <td>Contender, The (2000)</td>\n",
       "      <td>Drama|Thriller</td>\n",
       "    </tr>\n",
       "  </tbody>\n",
       "</table>\n",
       "</div>"
      ],
      "text/plain": [
       "      id_movie                 movie_title            type\n",
       "3878      3948     Meet the Parents (2000)          Comedy\n",
       "3879      3949  Requiem for a Dream (2000)           Drama\n",
       "3880      3950            Tigerland (2000)           Drama\n",
       "3881      3951     Two Family House (2000)           Drama\n",
       "3882      3952       Contender, The (2000)  Drama|Thriller"
      ]
     },
     "execution_count": 16,
     "metadata": {},
     "output_type": "execute_result"
    }
   ],
   "source": [
    "movies.tail()"
   ]
  },
  {
   "cell_type": "code",
   "execution_count": 17,
   "id": "b1142741",
   "metadata": {},
   "outputs": [
    {
     "data": {
      "text/plain": [
       "array([\"Animation|Children's|Comedy\", \"Adventure|Children's|Fantasy\",\n",
       "       'Comedy|Romance', 'Comedy|Drama', 'Comedy',\n",
       "       'Action|Crime|Thriller', \"Adventure|Children's\", 'Action',\n",
       "       'Action|Adventure|Thriller', 'Comedy|Drama|Romance',\n",
       "       'Comedy|Horror', \"Animation|Children's\", 'Drama',\n",
       "       'Action|Adventure|Romance', 'Drama|Thriller', 'Drama|Romance',\n",
       "       'Thriller', 'Action|Comedy|Drama', 'Crime|Drama|Thriller',\n",
       "       'Drama|Sci-Fi', 'Romance', 'Adventure|Sci-Fi', 'Adventure|Romance',\n",
       "       \"Children's|Comedy|Drama\", 'Documentary', 'Drama|War',\n",
       "       'Action|Crime|Drama', 'Action|Adventure', 'Crime|Thriller',\n",
       "       \"Animation|Children's|Musical|Romance\", 'Action|Drama|Thriller',\n",
       "       \"Children's|Comedy\", 'Drama|Mystery', 'Sci-Fi|Thriller',\n",
       "       'Action|Comedy|Crime|Horror|Thriller', 'Drama|Musical',\n",
       "       'Crime|Drama|Romance', 'Adventure|Drama', 'Action|Thriller',\n",
       "       \"Adventure|Children's|Comedy|Musical\", 'Action|Drama|War',\n",
       "       'Action|Adventure|Crime', 'Crime', 'Drama|Mystery|Romance',\n",
       "       'Action|Drama', 'Drama|Romance|War', 'Horror',\n",
       "       'Action|Adventure|Comedy|Crime', 'Comedy|War',\n",
       "       'Action|Adventure|Mystery|Sci-Fi', 'Drama|Thriller|War',\n",
       "       'Action|Romance|Thriller', 'Crime|Film-Noir|Mystery|Thriller',\n",
       "       'Action|Adventure|Drama|Romance', \"Adventure|Children's|Drama\",\n",
       "       'Action|Sci-Fi|Thriller', 'Action|Adventure|Sci-Fi',\n",
       "       \"Action|Children's\", 'Horror|Sci-Fi', 'Action|Crime|Sci-Fi',\n",
       "       'Western', \"Animation|Children's|Comedy|Romance\",\n",
       "       \"Children's|Drama\", 'Crime|Drama',\n",
       "       'Drama|Fantasy|Romance|Thriller', 'Drama|Horror', 'Comedy|Sci-Fi',\n",
       "       'Mystery|Thriller', \"Adventure|Children's|Comedy|Fantasy|Romance\",\n",
       "       'Action|Adventure|Fantasy|Sci-Fi', 'Drama|Romance|War|Western',\n",
       "       'Action|Crime', 'Crime|Drama|Romance|Thriller',\n",
       "       'Action|Adventure|Western', 'Horror|Thriller',\n",
       "       \"Children's|Comedy|Fantasy\", 'Film-Noir|Thriller',\n",
       "       'Action|Comedy|Musical|Sci-Fi', \"Children's\",\n",
       "       'Drama|Mystery|Thriller', 'Comedy|Romance|War', 'Action|Comedy',\n",
       "       \"Adventure|Children's|Romance\", \"Animation|Children's|Musical\",\n",
       "       'Comedy|Crime|Fantasy', 'Action|Comedy|Western', 'Action|Sci-Fi',\n",
       "       'Action|Adventure|Comedy|Romance', 'Comedy|Crime|Drama',\n",
       "       'Comedy|Thriller', 'Horror|Sci-Fi|Thriller',\n",
       "       'Mystery|Romance|Thriller', 'Comedy|Western', 'Drama|Western',\n",
       "       'Action|Adventure|Crime|Thriller', 'Action|Comedy|War',\n",
       "       'Comedy|Mystery', 'Comedy|Mystery|Romance', 'Comedy|Drama|War',\n",
       "       'Action|Drama|Mystery', 'Comedy|Crime|Horror', 'Film-Noir|Sci-Fi',\n",
       "       'Comedy|Romance|Thriller', \"Action|Adventure|Children's|Sci-Fi\",\n",
       "       \"Children's|Comedy|Musical\", 'Action|Adventure|Comedy',\n",
       "       'Action|Crime|Romance',\n",
       "       \"Action|Adventure|Animation|Children's|Fantasy\",\n",
       "       \"Animation|Children's|Comedy|Musical\", 'Adventure|Drama|Western',\n",
       "       'Action|Adventure|Crime|Drama',\n",
       "       'Action|Adventure|Animation|Horror|Sci-Fi', 'Action|Horror|Sci-Fi',\n",
       "       'War', 'Action|Adventure|Mystery', 'Mystery',\n",
       "       'Action|Adventure|Fantasy',\n",
       "       \"Adventure|Animation|Children's|Comedy|Fantasy\", 'Sci-Fi',\n",
       "       'Documentary|Drama', 'Action|Adventure|Comedy|War',\n",
       "       'Crime|Film-Noir|Thriller', 'Animation',\n",
       "       'Action|Adventure|Romance|Thriller', 'Animation|Sci-Fi',\n",
       "       'Animation|Comedy|Thriller', 'Film-Noir', 'Sci-Fi|War',\n",
       "       'Adventure', 'Comedy|Crime', 'Action|Sci-Fi|War',\n",
       "       'Comedy|Fantasy|Romance|Sci-Fi', 'Fantasy',\n",
       "       'Action|Mystery|Thriller', 'Comedy|Musical',\n",
       "       'Action|Adventure|Sci-Fi|Thriller', \"Children's|Drama|Fantasy\",\n",
       "       'Adventure|War', 'Musical|Romance', 'Comedy|Musical|Romance',\n",
       "       'Comedy|Mystery|Romance|Thriller', 'Film-Noir|Mystery', 'Musical',\n",
       "       \"Adventure|Children's|Drama|Musical\",\n",
       "       'Drama|Mystery|Sci-Fi|Thriller', 'Romance|Thriller',\n",
       "       'Film-Noir|Romance|Thriller', 'Crime|Film-Noir|Mystery',\n",
       "       'Adventure|Comedy', 'Action|Adventure|Romance|War', 'Romance|War',\n",
       "       'Action|Drama|Western', \"Children's|Comedy|Western\",\n",
       "       \"Adventure|Children's|Comedy\", \"Children's|Comedy|Mystery\",\n",
       "       \"Adventure|Children's|Fantasy|Sci-Fi\",\n",
       "       \"Adventure|Animation|Children's|Musical\",\n",
       "       \"Adventure|Children's|Musical\", 'Crime|Film-Noir',\n",
       "       \"Adventure|Children's|Comedy|Fantasy\",\n",
       "       \"Children's|Drama|Fantasy|Sci-Fi\", 'Action|Romance',\n",
       "       'Adventure|Western', 'Comedy|Fantasy', 'Animation|Comedy',\n",
       "       'Crime|Drama|Film-Noir', 'Action|Adventure|Drama|Sci-Fi|War',\n",
       "       'Action|Sci-Fi|Thriller|War', 'Action|Western',\n",
       "       \"Action|Animation|Children's|Sci-Fi|Thriller|War\",\n",
       "       'Action|Adventure|Romance|Sci-Fi|War',\n",
       "       'Action|Horror|Sci-Fi|Thriller',\n",
       "       'Action|Adventure|Comedy|Horror|Sci-Fi', 'Action|Comedy|Musical',\n",
       "       'Mystery|Sci-Fi', 'Film-Noir|Mystery|Thriller',\n",
       "       'Adventure|Comedy|Drama', 'Action|Adventure|Comedy|Horror',\n",
       "       'Action|Drama|Mystery|Romance|Thriller', 'Comedy|Mystery|Thriller',\n",
       "       'Adventure|Animation|Sci-Fi|Thriller', 'Action|Drama|Romance',\n",
       "       'Action|Adventure|Drama', 'Comedy|Drama|Musical',\n",
       "       'Documentary|War', 'Drama|Musical|War', 'Action|Horror',\n",
       "       'Horror|Romance', 'Action|Comedy|Sci-Fi|War', 'Crime|Drama|Sci-Fi',\n",
       "       'Action|Romance|War', 'Action|Comedy|Crime|Drama',\n",
       "       'Action|Drama|Thriller|War', \"Action|Adventure|Children's\",\n",
       "       \"Action|Adventure|Children's|Fantasy\",\n",
       "       \"Adventure|Animation|Children's|Comedy|Musical\",\n",
       "       'Crime|Drama|Mystery', 'Action|Adventure|Comedy|Sci-Fi',\n",
       "       \"Children's|Fantasy\", 'Action|Mystery|Sci-Fi|Thriller',\n",
       "       'Action|Mystery|Romance|Thriller', 'Adventure|Thriller',\n",
       "       'Action|Thriller|War', 'Action|Crime|Mystery',\n",
       "       'Horror|Mystery|Thriller', 'Crime|Horror|Mystery|Thriller',\n",
       "       'Comedy|Drama|Thriller', 'Drama|Sci-Fi|Thriller',\n",
       "       'Drama|Romance|Thriller', 'Action|Adventure|Sci-Fi|War',\n",
       "       'Comedy|Crime|Drama|Mystery', 'Comedy|Crime|Mystery|Thriller',\n",
       "       'Film-Noir|Sci-Fi|Thriller', 'Adventure|Sci-Fi|Thriller',\n",
       "       'Crime|Drama|Mystery|Thriller', 'Comedy|Documentary',\n",
       "       'Documentary|Musical', 'Action|Drama|Sci-Fi|Thriller',\n",
       "       \"Adventure|Animation|Children's|Fantasy\",\n",
       "       'Adventure|Comedy|Romance', 'Mystery|Sci-Fi|Thriller',\n",
       "       'Action|Comedy|Crime', \"Animation|Children's|Fantasy|War\",\n",
       "       'Action|Crime|Drama|Thriller', 'Comedy|Sci-Fi|Western',\n",
       "       \"Children's|Fantasy|Musical\", 'Fantasy|Sci-Fi',\n",
       "       \"Children's|Comedy|Sci-Fi\", \"Action|Adventure|Children's|Comedy\",\n",
       "       \"Adventure|Children's|Drama|Romance\",\n",
       "       \"Adventure|Children's|Sci-Fi\",\n",
       "       \"Adventure|Children's|Comedy|Fantasy|Sci-Fi\",\n",
       "       \"Animation|Children's|Comedy|Musical|Romance\",\n",
       "       \"Children's|Musical\", 'Drama|Fantasy',\n",
       "       \"Animation|Children's|Fantasy|Musical\", 'Adventure|Comedy|Musical',\n",
       "       \"Children's|Sci-Fi\", \"Children's|Horror\", 'Comedy|Fantasy|Romance',\n",
       "       'Comedy|Crime|Thriller', \"Adventure|Animation|Children's|Sci-Fi\",\n",
       "       'Action|Crime|Mystery|Thriller', 'Adventure|Musical',\n",
       "       \"Animation|Children's|Drama|Fantasy\", \"Children's|Fantasy|Sci-Fi\",\n",
       "       'Adventure|Fantasy|Romance', 'Crime|Horror',\n",
       "       'Action|Adventure|Horror', 'Adventure|Fantasy|Sci-Fi',\n",
       "       'Drama|Film-Noir|Thriller', 'Action|Comedy|Fantasy',\n",
       "       'Sci-Fi|Thriller|War', 'Action|Adventure|Sci-Fi|Thriller|War',\n",
       "       'Action|Adventure|Drama|Thriller', 'Crime|Horror|Thriller',\n",
       "       'Animation|Musical', 'Action|War',\n",
       "       'Action|Comedy|Romance|Thriller', 'Comedy|Horror|Thriller',\n",
       "       'Drama|Horror|Thriller', 'Action|Sci-Fi|Thriller|Western',\n",
       "       'Drama|Romance|Sci-Fi', 'Action|Adventure|Horror|Thriller',\n",
       "       'Comedy|Film-Noir|Thriller', 'Comedy|Horror|Musical|Sci-Fi',\n",
       "       'Comedy|Romance|Sci-Fi', 'Action|Comedy|Sci-Fi|Thriller',\n",
       "       'Action|Sci-Fi|Western', 'Comedy|Horror|Musical', 'Crime|Mystery',\n",
       "       'Animation|Mystery', 'Action|Horror|Thriller',\n",
       "       'Action|Drama|Fantasy|Romance', 'Horror|Mystery',\n",
       "       \"Adventure|Animation|Children's\", 'Musical|Romance|War',\n",
       "       'Adventure|Drama|Romance', 'Adventure|Animation|Film-Noir',\n",
       "       'Action|Adventure|Animation', 'Comedy|Drama|Western',\n",
       "       'Adventure|Comedy|Sci-Fi', 'Drama|Romance|Western',\n",
       "       'Comedy|Drama|Sci-Fi', 'Action|Drama|Romance|Thriller',\n",
       "       'Adventure|Romance|Sci-Fi', 'Film-Noir|Horror',\n",
       "       'Crime|Drama|Film-Noir|Thriller', 'Action|Adventure|War',\n",
       "       'Romance|Western', \"Action|Children's|Fantasy\",\n",
       "       'Adventure|Drama|Thriller', 'Adventure|Fantasy', 'Musical|War',\n",
       "       'Adventure|Musical|Romance', 'Action|Romance|Sci-Fi',\n",
       "       'Drama|Film-Noir', 'Comedy|Horror|Sci-Fi',\n",
       "       'Adventure|Drama|Romance|Sci-Fi', 'Adventure|Animation|Sci-Fi',\n",
       "       'Adventure|Crime|Sci-Fi|Thriller'], dtype=object)"
      ]
     },
     "execution_count": 17,
     "metadata": {},
     "output_type": "execute_result"
    }
   ],
   "source": [
    "movies.type.unique()"
   ]
  },
  {
   "cell_type": "code",
   "execution_count": 18,
   "id": "ce5a0848",
   "metadata": {},
   "outputs": [
    {
     "data": {
      "text/plain": [
       "301"
      ]
     },
     "execution_count": 18,
     "metadata": {},
     "output_type": "execute_result"
    }
   ],
   "source": [
    "movies.type.nunique()"
   ]
  },
  {
   "cell_type": "markdown",
   "id": "7da238e1",
   "metadata": {},
   "source": [
    "_L'arxiu conté dades de 3.883 pel·lícules descrites en tres variables: codi, nom de la pel·lícula i tipus de pel·lícula. El tipus de pel·licula agrupa els diferents géneres d'aquestes i hi ha 301 combinacions de génere diferents_"
   ]
  },
  {
   "cell_type": "markdown",
   "id": "37631687",
   "metadata": {},
   "source": [
    "## Nivell 3 - Exercici 3\n",
    "\n",
    "Mostreu la vostra creativitat. Què creieu rellevant mostrar del dataset \"movies.dat\" del exercici anterior? Feu una o dues representacions gràfiques i justifiqueu la seva elecció.\n",
    "\n",
    "_Creem la variable **any** a partir de l'any que consta entre parèntesi al nom de la pel·lícula_"
   ]
  },
  {
   "cell_type": "code",
   "execution_count": 19,
   "id": "b4f8373d",
   "metadata": {},
   "outputs": [],
   "source": [
    "movies['any'] = movies['movie_title'].str.slice(start = -5, stop = -1)\n",
    "movies['any'] = movies['any'].astype(int)"
   ]
  },
  {
   "cell_type": "code",
   "execution_count": 20,
   "id": "6b15d97a",
   "metadata": {},
   "outputs": [
    {
     "data": {
      "text/html": [
       "<div>\n",
       "<style scoped>\n",
       "    .dataframe tbody tr th:only-of-type {\n",
       "        vertical-align: middle;\n",
       "    }\n",
       "\n",
       "    .dataframe tbody tr th {\n",
       "        vertical-align: top;\n",
       "    }\n",
       "\n",
       "    .dataframe thead th {\n",
       "        text-align: right;\n",
       "    }\n",
       "</style>\n",
       "<table border=\"1\" class=\"dataframe\">\n",
       "  <thead>\n",
       "    <tr style=\"text-align: right;\">\n",
       "      <th></th>\n",
       "      <th>id_movie</th>\n",
       "      <th>movie_title</th>\n",
       "      <th>type</th>\n",
       "      <th>any</th>\n",
       "    </tr>\n",
       "  </thead>\n",
       "  <tbody>\n",
       "    <tr>\n",
       "      <th>0</th>\n",
       "      <td>1</td>\n",
       "      <td>Toy Story (1995)</td>\n",
       "      <td>Animation|Children's|Comedy</td>\n",
       "      <td>1995</td>\n",
       "    </tr>\n",
       "    <tr>\n",
       "      <th>1</th>\n",
       "      <td>2</td>\n",
       "      <td>Jumanji (1995)</td>\n",
       "      <td>Adventure|Children's|Fantasy</td>\n",
       "      <td>1995</td>\n",
       "    </tr>\n",
       "    <tr>\n",
       "      <th>2</th>\n",
       "      <td>3</td>\n",
       "      <td>Grumpier Old Men (1995)</td>\n",
       "      <td>Comedy|Romance</td>\n",
       "      <td>1995</td>\n",
       "    </tr>\n",
       "    <tr>\n",
       "      <th>3</th>\n",
       "      <td>4</td>\n",
       "      <td>Waiting to Exhale (1995)</td>\n",
       "      <td>Comedy|Drama</td>\n",
       "      <td>1995</td>\n",
       "    </tr>\n",
       "    <tr>\n",
       "      <th>4</th>\n",
       "      <td>5</td>\n",
       "      <td>Father of the Bride Part II (1995)</td>\n",
       "      <td>Comedy</td>\n",
       "      <td>1995</td>\n",
       "    </tr>\n",
       "  </tbody>\n",
       "</table>\n",
       "</div>"
      ],
      "text/plain": [
       "   id_movie                         movie_title                          type  \\\n",
       "0         1                    Toy Story (1995)   Animation|Children's|Comedy   \n",
       "1         2                      Jumanji (1995)  Adventure|Children's|Fantasy   \n",
       "2         3             Grumpier Old Men (1995)                Comedy|Romance   \n",
       "3         4            Waiting to Exhale (1995)                  Comedy|Drama   \n",
       "4         5  Father of the Bride Part II (1995)                        Comedy   \n",
       "\n",
       "    any  \n",
       "0  1995  \n",
       "1  1995  \n",
       "2  1995  \n",
       "3  1995  \n",
       "4  1995  "
      ]
     },
     "execution_count": 20,
     "metadata": {},
     "output_type": "execute_result"
    }
   ],
   "source": [
    "movies.head()"
   ]
  },
  {
   "cell_type": "markdown",
   "id": "9b39b975",
   "metadata": {},
   "source": [
    "_Farem un gràfic amb l'evolució del nombre de pel·lícules, pel que utilitzarem un gràfic de barres. També es podria utilitzar un gràfic de línees, però com que només es tracta de graficar una única serie, crec que queda més clar_ \n",
    "\n",
    "_Primer de tot hem de calcular el nombre de pel·lícules per any_"
   ]
  },
  {
   "cell_type": "code",
   "execution_count": 21,
   "id": "23c8a31e",
   "metadata": {},
   "outputs": [
    {
     "data": {
      "text/plain": [
       "1920      2\n",
       "1922      2\n",
       "1926      8\n",
       "1928      3\n",
       "1930      7\n",
       "       ... \n",
       "1991     60\n",
       "1993    165\n",
       "1995    342\n",
       "1997    315\n",
       "1999    283\n",
       "Name: any, Length: 81, dtype: int64"
      ]
     },
     "execution_count": 21,
     "metadata": {},
     "output_type": "execute_result"
    }
   ],
   "source": [
    "any_movies = movies['any'].value_counts(sort=False)\n",
    "any_movies"
   ]
  },
  {
   "cell_type": "code",
   "execution_count": 22,
   "id": "c7734fec",
   "metadata": {},
   "outputs": [
    {
     "data": {
      "image/png": "[encoded data removed]",
      "text/plain": [
       "<Figure size 1080x504 with 1 Axes>"
      ]
     },
     "metadata": {
      "needs_background": "light"
     },
     "output_type": "display_data"
    }
   ],
   "source": [
    "plt.figure(figsize=(15,7))\n",
    "plt.bar(any_movies.index,any_movies.values)\n",
    "plt.xlabel(\"Year\")\n",
    "plt.ylabel(\"Number of movies\")\n",
    "plt.title(\"Evolution of the number of movies\")\n",
    "plt.show()"
   ]
  },
  {
   "cell_type": "markdown",
   "id": "170a7f5c",
   "metadata": {},
   "source": [
    "_Partint d'aquesta mateixa idea, mirarem l'evolució pels tipus/gènere de pel·lícules. Aquesta vegada si que farem un gràfic de línees, perquè seran varius tipus/gèneres i queda més clar les tendències amb línees que no amb barres_\n",
    "\n",
    "_De la mateixa manera que abans hem de disposar de les dades agregades per any del nombre de pel·lícules per gènere_\n",
    "\n",
    "_Quins són els gènere més freqüents? Mirem les categories més freqüents que consten a l'arxiu de dades, i ens quedem amb els gèneres que surten que tenen més de 100 pel·lícules_"
   ]
  },
  {
   "cell_type": "code",
   "execution_count": 23,
   "id": "3be3e861",
   "metadata": {},
   "outputs": [
    {
     "data": {
      "text/plain": [
       "Drama             843\n",
       "Comedy            521\n",
       "Horror            178\n",
       "Comedy|Drama      162\n",
       "Comedy|Romance    142\n",
       "Drama|Romance     134\n",
       "Documentary       116\n",
       "Thriller          101\n",
       "Action             65\n",
       "Drama|Thriller     63\n",
       "Name: type, dtype: int64"
      ]
     },
     "execution_count": 23,
     "metadata": {},
     "output_type": "execute_result"
    }
   ],
   "source": [
    "movies_type = movies['type'].value_counts()\n",
    "movies_type[:10]"
   ]
  },
  {
   "cell_type": "markdown",
   "id": "380028b6",
   "metadata": {},
   "source": [
    "_Mirarem l'evolució de les pel·lícules pels següents géneres: Drama, Comedy, Horror, Romance, Documentary, Thriller_\n",
    "\n",
    "_Creem les variables indicadores (a partir de variables booleanes) per a calcular després les dades agregades_"
   ]
  },
  {
   "cell_type": "code",
   "execution_count": 24,
   "id": "9dedee99",
   "metadata": {},
   "outputs": [],
   "source": [
    "movies['Drama'] = movies['type'].str.find(\"Drama\") != -1\n",
    "movies['Comedy'] = movies['type'].str.find(\"Comedy\") != -1\n",
    "movies['Horror'] = movies['type'].str.find(\"Horror\") != -1\n",
    "movies['Romance'] = movies['type'].str.find(\"Romance\") != -1\n",
    "movies['Documentary'] = movies['type'].str.find(\"Documentary\") != -1\n",
    "movies['Thriller'] = movies['type'].str.find(\"Thriller\") != -1"
   ]
  },
  {
   "cell_type": "code",
   "execution_count": 25,
   "id": "1237c2cb",
   "metadata": {},
   "outputs": [
    {
     "data": {
      "text/html": [
       "<div>\n",
       "<style scoped>\n",
       "    .dataframe tbody tr th:only-of-type {\n",
       "        vertical-align: middle;\n",
       "    }\n",
       "\n",
       "    .dataframe tbody tr th {\n",
       "        vertical-align: top;\n",
       "    }\n",
       "\n",
       "    .dataframe thead th {\n",
       "        text-align: right;\n",
       "    }\n",
       "</style>\n",
       "<table border=\"1\" class=\"dataframe\">\n",
       "  <thead>\n",
       "    <tr style=\"text-align: right;\">\n",
       "      <th></th>\n",
       "      <th>id_movie</th>\n",
       "      <th>movie_title</th>\n",
       "      <th>type</th>\n",
       "      <th>any</th>\n",
       "      <th>Drama</th>\n",
       "      <th>Comedy</th>\n",
       "      <th>Horror</th>\n",
       "      <th>Romance</th>\n",
       "      <th>Documentary</th>\n",
       "      <th>Thriller</th>\n",
       "    </tr>\n",
       "  </thead>\n",
       "  <tbody>\n",
       "    <tr>\n",
       "      <th>0</th>\n",
       "      <td>1</td>\n",
       "      <td>Toy Story (1995)</td>\n",
       "      <td>Animation|Children's|Comedy</td>\n",
       "      <td>1995</td>\n",
       "      <td>False</td>\n",
       "      <td>True</td>\n",
       "      <td>False</td>\n",
       "      <td>False</td>\n",
       "      <td>False</td>\n",
       "      <td>False</td>\n",
       "    </tr>\n",
       "    <tr>\n",
       "      <th>1</th>\n",
       "      <td>2</td>\n",
       "      <td>Jumanji (1995)</td>\n",
       "      <td>Adventure|Children's|Fantasy</td>\n",
       "      <td>1995</td>\n",
       "      <td>False</td>\n",
       "      <td>False</td>\n",
       "      <td>False</td>\n",
       "      <td>False</td>\n",
       "      <td>False</td>\n",
       "      <td>False</td>\n",
       "    </tr>\n",
       "    <tr>\n",
       "      <th>2</th>\n",
       "      <td>3</td>\n",
       "      <td>Grumpier Old Men (1995)</td>\n",
       "      <td>Comedy|Romance</td>\n",
       "      <td>1995</td>\n",
       "      <td>False</td>\n",
       "      <td>True</td>\n",
       "      <td>False</td>\n",
       "      <td>True</td>\n",
       "      <td>False</td>\n",
       "      <td>False</td>\n",
       "    </tr>\n",
       "    <tr>\n",
       "      <th>3</th>\n",
       "      <td>4</td>\n",
       "      <td>Waiting to Exhale (1995)</td>\n",
       "      <td>Comedy|Drama</td>\n",
       "      <td>1995</td>\n",
       "      <td>True</td>\n",
       "      <td>True</td>\n",
       "      <td>False</td>\n",
       "      <td>False</td>\n",
       "      <td>False</td>\n",
       "      <td>False</td>\n",
       "    </tr>\n",
       "    <tr>\n",
       "      <th>4</th>\n",
       "      <td>5</td>\n",
       "      <td>Father of the Bride Part II (1995)</td>\n",
       "      <td>Comedy</td>\n",
       "      <td>1995</td>\n",
       "      <td>False</td>\n",
       "      <td>True</td>\n",
       "      <td>False</td>\n",
       "      <td>False</td>\n",
       "      <td>False</td>\n",
       "      <td>False</td>\n",
       "    </tr>\n",
       "  </tbody>\n",
       "</table>\n",
       "</div>"
      ],
      "text/plain": [
       "   id_movie                         movie_title                          type  \\\n",
       "0         1                    Toy Story (1995)   Animation|Children's|Comedy   \n",
       "1         2                      Jumanji (1995)  Adventure|Children's|Fantasy   \n",
       "2         3             Grumpier Old Men (1995)                Comedy|Romance   \n",
       "3         4            Waiting to Exhale (1995)                  Comedy|Drama   \n",
       "4         5  Father of the Bride Part II (1995)                        Comedy   \n",
       "\n",
       "    any  Drama  Comedy  Horror  Romance  Documentary  Thriller  \n",
       "0  1995  False    True   False    False        False     False  \n",
       "1  1995  False   False   False    False        False     False  \n",
       "2  1995  False    True   False     True        False     False  \n",
       "3  1995   True    True   False    False        False     False  \n",
       "4  1995  False    True   False    False        False     False  "
      ]
     },
     "execution_count": 25,
     "metadata": {},
     "output_type": "execute_result"
    }
   ],
   "source": [
    "movies.head()"
   ]
  },
  {
   "cell_type": "code",
   "execution_count": 26,
   "id": "ce4aefa6",
   "metadata": {},
   "outputs": [
    {
     "data": {
      "text/html": [
       "<div>\n",
       "<style scoped>\n",
       "    .dataframe tbody tr th:only-of-type {\n",
       "        vertical-align: middle;\n",
       "    }\n",
       "\n",
       "    .dataframe tbody tr th {\n",
       "        vertical-align: top;\n",
       "    }\n",
       "\n",
       "    .dataframe thead th {\n",
       "        text-align: right;\n",
       "    }\n",
       "</style>\n",
       "<table border=\"1\" class=\"dataframe\">\n",
       "  <thead>\n",
       "    <tr style=\"text-align: right;\">\n",
       "      <th></th>\n",
       "      <th>Drama</th>\n",
       "      <th>Comedy</th>\n",
       "      <th>Horror</th>\n",
       "      <th>Romance</th>\n",
       "      <th>Documentary</th>\n",
       "      <th>Thriller</th>\n",
       "    </tr>\n",
       "    <tr>\n",
       "      <th>any</th>\n",
       "      <th></th>\n",
       "      <th></th>\n",
       "      <th></th>\n",
       "      <th></th>\n",
       "      <th></th>\n",
       "      <th></th>\n",
       "    </tr>\n",
       "  </thead>\n",
       "  <tbody>\n",
       "    <tr>\n",
       "      <th>1919</th>\n",
       "      <td>2</td>\n",
       "      <td>1</td>\n",
       "      <td>0</td>\n",
       "      <td>0</td>\n",
       "      <td>0</td>\n",
       "      <td>0</td>\n",
       "    </tr>\n",
       "    <tr>\n",
       "      <th>1920</th>\n",
       "      <td>0</td>\n",
       "      <td>2</td>\n",
       "      <td>0</td>\n",
       "      <td>0</td>\n",
       "      <td>0</td>\n",
       "      <td>0</td>\n",
       "    </tr>\n",
       "    <tr>\n",
       "      <th>1921</th>\n",
       "      <td>0</td>\n",
       "      <td>0</td>\n",
       "      <td>0</td>\n",
       "      <td>0</td>\n",
       "      <td>0</td>\n",
       "      <td>0</td>\n",
       "    </tr>\n",
       "    <tr>\n",
       "      <th>1922</th>\n",
       "      <td>1</td>\n",
       "      <td>0</td>\n",
       "      <td>1</td>\n",
       "      <td>0</td>\n",
       "      <td>0</td>\n",
       "      <td>0</td>\n",
       "    </tr>\n",
       "    <tr>\n",
       "      <th>1923</th>\n",
       "      <td>1</td>\n",
       "      <td>2</td>\n",
       "      <td>0</td>\n",
       "      <td>0</td>\n",
       "      <td>0</td>\n",
       "      <td>0</td>\n",
       "    </tr>\n",
       "    <tr>\n",
       "      <th>...</th>\n",
       "      <td>...</td>\n",
       "      <td>...</td>\n",
       "      <td>...</td>\n",
       "      <td>...</td>\n",
       "      <td>...</td>\n",
       "      <td>...</td>\n",
       "    </tr>\n",
       "    <tr>\n",
       "      <th>1996</th>\n",
       "      <td>150</td>\n",
       "      <td>115</td>\n",
       "      <td>12</td>\n",
       "      <td>48</td>\n",
       "      <td>19</td>\n",
       "      <td>45</td>\n",
       "    </tr>\n",
       "    <tr>\n",
       "      <th>1997</th>\n",
       "      <td>139</td>\n",
       "      <td>98</td>\n",
       "      <td>10</td>\n",
       "      <td>52</td>\n",
       "      <td>11</td>\n",
       "      <td>55</td>\n",
       "    </tr>\n",
       "    <tr>\n",
       "      <th>1998</th>\n",
       "      <td>166</td>\n",
       "      <td>112</td>\n",
       "      <td>15</td>\n",
       "      <td>58</td>\n",
       "      <td>18</td>\n",
       "      <td>51</td>\n",
       "    </tr>\n",
       "    <tr>\n",
       "      <th>1999</th>\n",
       "      <td>130</td>\n",
       "      <td>103</td>\n",
       "      <td>14</td>\n",
       "      <td>37</td>\n",
       "      <td>15</td>\n",
       "      <td>40</td>\n",
       "    </tr>\n",
       "    <tr>\n",
       "      <th>2000</th>\n",
       "      <td>55</td>\n",
       "      <td>69</td>\n",
       "      <td>8</td>\n",
       "      <td>17</td>\n",
       "      <td>8</td>\n",
       "      <td>25</td>\n",
       "    </tr>\n",
       "  </tbody>\n",
       "</table>\n",
       "<p>81 rows × 6 columns</p>\n",
       "</div>"
      ],
      "text/plain": [
       "      Drama  Comedy  Horror  Romance  Documentary  Thriller\n",
       "any                                                        \n",
       "1919      2       1       0        0            0         0\n",
       "1920      0       2       0        0            0         0\n",
       "1921      0       0       0        0            0         0\n",
       "1922      1       0       1        0            0         0\n",
       "1923      1       2       0        0            0         0\n",
       "...     ...     ...     ...      ...          ...       ...\n",
       "1996    150     115      12       48           19        45\n",
       "1997    139      98      10       52           11        55\n",
       "1998    166     112      15       58           18        51\n",
       "1999    130     103      14       37           15        40\n",
       "2000     55      69       8       17            8        25\n",
       "\n",
       "[81 rows x 6 columns]"
      ]
     },
     "execution_count": 26,
     "metadata": {},
     "output_type": "execute_result"
    }
   ],
   "source": [
    "aggregations={\n",
    "    'Drama':sum,\n",
    "    'Comedy':sum,\n",
    "    'Horror':sum,\n",
    "    'Romance':sum,\n",
    "    'Documentary':sum,\n",
    "    'Thriller':sum\n",
    "             }\n",
    "movies.grups = movies.groupby(['any']).agg(aggregations)\n",
    "movies.grups"
   ]
  },
  {
   "cell_type": "markdown",
   "id": "16a70d68",
   "metadata": {},
   "source": [
    "_Un cop disposem del conjunt de dades amb les dades agregades per any, ja podem fer el gràfic_"
   ]
  },
  {
   "cell_type": "code",
   "execution_count": 27,
   "id": "66b51673",
   "metadata": {},
   "outputs": [
    {
     "data": {
      "image/png": "[encoded data removed]",
      "text/plain": [
       "<Figure size 1080x504 with 1 Axes>"
      ]
     },
     "metadata": {
      "needs_background": "light"
     },
     "output_type": "display_data"
    }
   ],
   "source": [
    "plt.figure(figsize=(15,7))\n",
    "plt.plot(movies.grups.index,movies.grups['Drama'],color='C2',label='Drama')\n",
    "plt.plot(movies.grups.index,movies.grups['Comedy'],color='C3',label='Comedy')\n",
    "plt.plot(movies.grups.index,movies.grups['Horror'],color='C4',label='Horror')\n",
    "plt.plot(movies.grups.index,movies.grups['Romance'],color='C5',label='Romance')\n",
    "plt.plot(movies.grups.index,movies.grups['Documentary'],color='C6',label='Documentary')\n",
    "plt.plot(movies.grups.index,movies.grups['Thriller'],color='C7',label='Thriller')\n",
    "plt.legend()\n",
    "plt.xlabel(\"Year\")\n",
    "plt.ylabel(\"Number of movies\")\n",
    "plt.title(\"Evolution of the number of movies\")\n",
    "plt.show()"
   ]
  },
  {
   "cell_type": "code",
   "execution_count": null,
   "id": "250e2c50",
   "metadata": {},
   "outputs": [],
   "source": []
  }
 ],
 "metadata": {
  "kernelspec": {
   "display_name": "Python 3",
   "language": "python",
   "name": "python3"
  },
  "language_info": {
   "codemirror_mode": {
    "name": "ipython",
    "version": 3
   },
   "file_extension": ".py",
   "mimetype": "text/x-python",
   "name": "python",
   "nbconvert_exporter": "python",
   "pygments_lexer": "ipython3",
   "version": "3.8.8"
  }
 },
 "nbformat": 4,
 "nbformat_minor": 5
}
